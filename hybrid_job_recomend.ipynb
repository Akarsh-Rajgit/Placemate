{
  "nbformat": 4,
  "nbformat_minor": 0,
  "metadata": {
    "colab": {
      "provenance": [],
      "authorship_tag": "ABX9TyPaLnEJfi30tZ7L8TYurLxT",
      "include_colab_link": true
    },
    "kernelspec": {
      "name": "python3",
      "display_name": "Python 3"
    },
    "language_info": {
      "name": "python"
    }
  },
  "cells": [
    {
      "cell_type": "markdown",
      "metadata": {
        "id": "view-in-github",
        "colab_type": "text"
      },
      "source": [
        "<a href=\"https://colab.research.google.com/github/Akarsh-Rajgit/Placemate/blob/main/hybrid_job_recomend.ipynb\" target=\"_parent\"><img src=\"https://colab.research.google.com/assets/colab-badge.svg\" alt=\"Open In Colab\"/></a>"
      ]
    },
    {
      "cell_type": "code",
      "execution_count": 7,
      "metadata": {
        "colab": {
          "base_uri": "https://localhost:8080/",
          "height": 1000
        },
        "id": "NlUhTvFFX0oe",
        "outputId": "ef0eca06-947e-4295-ffb1-79b52a8d2faa"
      },
      "outputs": [
        {
          "output_type": "stream",
          "name": "stdout",
          "text": [
            "Collecting numpy<2.0\n",
            "  Using cached numpy-1.26.4-cp312-cp312-manylinux_2_17_x86_64.manylinux2014_x86_64.whl.metadata (61 kB)\n",
            "Collecting pandas\n",
            "  Downloading pandas-2.3.2-cp312-cp312-manylinux_2_17_x86_64.manylinux2014_x86_64.whl.metadata (91 kB)\n",
            "Collecting scikit-learn\n",
            "  Downloading scikit_learn-1.7.1-cp312-cp312-manylinux2014_x86_64.manylinux_2_17_x86_64.whl.metadata (11 kB)\n",
            "Collecting scikit-surprise==1.1.4\n",
            "  Using cached scikit_surprise-1.1.4-cp312-cp312-linux_x86_64.whl\n",
            "Collecting joblib>=1.2.0 (from scikit-surprise==1.1.4)\n",
            "  Downloading joblib-1.5.1-py3-none-any.whl.metadata (5.6 kB)\n",
            "Collecting scipy>=1.6.0 (from scikit-surprise==1.1.4)\n",
            "  Downloading scipy-1.16.1-cp312-cp312-manylinux2014_x86_64.manylinux_2_17_x86_64.whl.metadata (61 kB)\n",
            "Collecting python-dateutil>=2.8.2 (from pandas)\n",
            "  Downloading python_dateutil-2.9.0.post0-py2.py3-none-any.whl.metadata (8.4 kB)\n",
            "Collecting pytz>=2020.1 (from pandas)\n",
            "  Downloading pytz-2025.2-py2.py3-none-any.whl.metadata (22 kB)\n",
            "Collecting tzdata>=2022.7 (from pandas)\n",
            "  Downloading tzdata-2025.2-py2.py3-none-any.whl.metadata (1.4 kB)\n",
            "Collecting threadpoolctl>=3.1.0 (from scikit-learn)\n",
            "  Downloading threadpoolctl-3.6.0-py3-none-any.whl.metadata (13 kB)\n",
            "Collecting six>=1.5 (from python-dateutil>=2.8.2->pandas)\n",
            "  Downloading six-1.17.0-py2.py3-none-any.whl.metadata (1.7 kB)\n",
            "Using cached numpy-1.26.4-cp312-cp312-manylinux_2_17_x86_64.manylinux2014_x86_64.whl (18.0 MB)\n",
            "Downloading pandas-2.3.2-cp312-cp312-manylinux_2_17_x86_64.manylinux2014_x86_64.whl (12.0 MB)\n",
            "\u001b[2K   \u001b[90m━━━━━━━━━━━━━━━━━━━━━━━━━━━━━━━━━━━━━━━━\u001b[0m \u001b[32m12.0/12.0 MB\u001b[0m \u001b[31m134.1 MB/s\u001b[0m  \u001b[33m0:00:00\u001b[0m\n",
            "\u001b[?25hDownloading scikit_learn-1.7.1-cp312-cp312-manylinux2014_x86_64.manylinux_2_17_x86_64.whl (9.5 MB)\n",
            "\u001b[2K   \u001b[90m━━━━━━━━━━━━━━━━━━━━━━━━━━━━━━━━━━━━━━━━\u001b[0m \u001b[32m9.5/9.5 MB\u001b[0m \u001b[31m165.5 MB/s\u001b[0m  \u001b[33m0:00:00\u001b[0m\n",
            "\u001b[?25hDownloading joblib-1.5.1-py3-none-any.whl (307 kB)\n",
            "Downloading python_dateutil-2.9.0.post0-py2.py3-none-any.whl (229 kB)\n",
            "Downloading pytz-2025.2-py2.py3-none-any.whl (509 kB)\n",
            "Downloading scipy-1.16.1-cp312-cp312-manylinux2014_x86_64.manylinux_2_17_x86_64.whl (35.2 MB)\n",
            "\u001b[2K   \u001b[90m━━━━━━━━━━━━━━━━━━━━━━━━━━━━━━━━━━━━━━━━\u001b[0m \u001b[32m35.2/35.2 MB\u001b[0m \u001b[31m80.9 MB/s\u001b[0m  \u001b[33m0:00:00\u001b[0m\n",
            "\u001b[?25hDownloading six-1.17.0-py2.py3-none-any.whl (11 kB)\n",
            "Downloading threadpoolctl-3.6.0-py3-none-any.whl (18 kB)\n",
            "Downloading tzdata-2025.2-py2.py3-none-any.whl (347 kB)\n",
            "Installing collected packages: pytz, tzdata, threadpoolctl, six, numpy, joblib, scipy, python-dateutil, scikit-surprise, scikit-learn, pandas\n",
            "\u001b[2K  Attempting uninstall: pytz\n",
            "\u001b[2K    Found existing installation: pytz 2025.2\n",
            "\u001b[2K    Uninstalling pytz-2025.2:\n",
            "\u001b[2K      Successfully uninstalled pytz-2025.2\n",
            "\u001b[2K  Attempting uninstall: tzdata\n",
            "\u001b[2K    Found existing installation: tzdata 2025.2\n",
            "\u001b[2K    Uninstalling tzdata-2025.2:\n",
            "\u001b[2K      Successfully uninstalled tzdata-2025.2\n",
            "\u001b[2K  Attempting uninstall: threadpoolctl\n",
            "\u001b[2K    Found existing installation: threadpoolctl 3.6.0\n",
            "\u001b[2K    Uninstalling threadpoolctl-3.6.0:\n",
            "\u001b[2K      Successfully uninstalled threadpoolctl-3.6.0\n",
            "\u001b[2K  Attempting uninstall: six\n",
            "\u001b[2K    Found existing installation: six 1.17.0\n",
            "\u001b[2K    Uninstalling six-1.17.0:\n",
            "\u001b[2K      Successfully uninstalled six-1.17.0\n",
            "\u001b[2K  Attempting uninstall: numpy\n",
            "\u001b[2K    Found existing installation: numpy 1.26.4\n",
            "\u001b[2K    Uninstalling numpy-1.26.4:\n",
            "\u001b[2K      Successfully uninstalled numpy-1.26.4\n",
            "\u001b[2K  Attempting uninstall: joblib\n",
            "\u001b[2K    Found existing installation: joblib 1.5.1\n",
            "\u001b[2K    Uninstalling joblib-1.5.1:\n",
            "\u001b[2K      Successfully uninstalled joblib-1.5.1\n",
            "\u001b[2K  Attempting uninstall: scipy\n",
            "\u001b[2K    Found existing installation: scipy 1.16.1\n",
            "\u001b[2K    Uninstalling scipy-1.16.1:\n",
            "\u001b[2K      Successfully uninstalled scipy-1.16.1\n",
            "\u001b[2K  Attempting uninstall: python-dateutil\n",
            "\u001b[2K    Found existing installation: python-dateutil 2.9.0.post0\n",
            "\u001b[2K    Uninstalling python-dateutil-2.9.0.post0:\n",
            "\u001b[2K      Successfully uninstalled python-dateutil-2.9.0.post0\n",
            "\u001b[2K  Attempting uninstall: scikit-surprise\n",
            "\u001b[2K    Found existing installation: scikit-surprise 1.1.4\n",
            "\u001b[2K    Uninstalling scikit-surprise-1.1.4:\n",
            "\u001b[2K      Successfully uninstalled scikit-surprise-1.1.4\n",
            "\u001b[2K  Attempting uninstall: scikit-learn\n",
            "\u001b[2K    Found existing installation: scikit-learn 1.6.1\n",
            "\u001b[2K    Uninstalling scikit-learn-1.6.1:\n",
            "\u001b[2K      Successfully uninstalled scikit-learn-1.6.1\n",
            "\u001b[2K  Attempting uninstall: pandas\n",
            "\u001b[2K    Found existing installation: pandas 2.2.2\n",
            "\u001b[2K    Uninstalling pandas-2.2.2:\n",
            "\u001b[2K      Successfully uninstalled pandas-2.2.2\n",
            "\u001b[2K   \u001b[90m━━━━━━━━━━━━━━━━━━━━━━━━━━━━━━━━━━━━━━━━\u001b[0m \u001b[32m11/11\u001b[0m [pandas]\n",
            "\u001b[1A\u001b[2K\u001b[31mERROR: pip's dependency resolver does not currently take into account all the packages that are installed. This behaviour is the source of the following dependency conflicts.\n",
            "google-colab 1.0.0 requires pandas==2.2.2, but you have pandas 2.3.2 which is incompatible.\n",
            "opencv-python-headless 4.12.0.88 requires numpy<2.3.0,>=2; python_version >= \"3.9\", but you have numpy 1.26.4 which is incompatible.\n",
            "opencv-contrib-python 4.12.0.88 requires numpy<2.3.0,>=2; python_version >= \"3.9\", but you have numpy 1.26.4 which is incompatible.\n",
            "cudf-cu12 25.6.0 requires pandas<2.2.4dev0,>=2.0, but you have pandas 2.3.2 which is incompatible.\n",
            "opencv-python 4.12.0.88 requires numpy<2.3.0,>=2; python_version >= \"3.9\", but you have numpy 1.26.4 which is incompatible.\n",
            "dask-cudf-cu12 25.6.0 requires pandas<2.2.4dev0,>=2.0, but you have pandas 2.3.2 which is incompatible.\n",
            "thinc 8.3.6 requires numpy<3.0.0,>=2.0.0, but you have numpy 1.26.4 which is incompatible.\u001b[0m\u001b[31m\n",
            "\u001b[0mSuccessfully installed joblib-1.5.1 numpy-1.26.4 pandas-2.3.2 python-dateutil-2.9.0.post0 pytz-2025.2 scikit-learn-1.7.1 scikit-surprise-1.1.4 scipy-1.16.1 six-1.17.0 threadpoolctl-3.6.0 tzdata-2025.2\n"
          ]
        },
        {
          "output_type": "display_data",
          "data": {
            "application/vnd.colab-display-data+json": {
              "pip_warning": {
                "packages": [
                  "dateutil",
                  "numpy",
                  "pytz",
                  "six"
                ]
              },
              "id": "9c2bfe9c53a84b919d935f58e5f5e3fa"
            }
          },
          "metadata": {}
        }
      ],
      "source": [
        "!pip install --upgrade --force-reinstall \"numpy<2.0\" pandas scikit-learn scikit-surprise==1.1.4\n"
      ]
    },
    {
      "cell_type": "code",
      "source": [
        "import os, string, pickle, json\n",
        "import numpy as np\n",
        "import pandas as pd\n",
        "\n",
        "from sklearn.feature_extraction.text import TfidfVectorizer\n",
        "from sklearn.naive_bayes import MultinomialNB\n",
        "from sklearn.linear_model import LogisticRegression\n",
        "from sklearn.model_selection import train_test_split\n",
        "from sklearn.metrics import accuracy_score\n",
        "from surprise import Dataset as SurpriseDataset\n",
        "from surprise import Reader, SVD\n",
        "\n",
        "def clean_text(text: str) -> str:\n",
        "    if not isinstance(text, str):\n",
        "        return \"\"\n",
        "    text = text.lower()\n",
        "    text = text.replace(\"\\n\", \" \").replace(\"\\r\", \" \")\n",
        "    text = text.translate(str.maketrans('', '', string.punctuation))\n",
        "    text = ''.join(ch for ch in text if not ch.isdigit())\n",
        "    return text\n"
      ],
      "metadata": {
        "id": "sFe16W-OILFc"
      },
      "execution_count": 1,
      "outputs": []
    },
    {
      "cell_type": "code",
      "source": [
        "class ContentModels:\n",
        "    def __init__(self, max_features=7000, ngram_range=(1, 2), stop_words=\"english\"):\n",
        "        self.vectorizer = TfidfVectorizer(max_features=max_features,\n",
        "                                          ngram_range=ngram_range,\n",
        "                                          stop_words=stop_words)\n",
        "        self.nb = MultinomialNB()\n",
        "        self.lr = LogisticRegression(max_iter=1000, random_state=42)\n",
        "        self._fitted = False\n",
        "\n",
        "    def fit(self, resumes, labels):\n",
        "        resumes = resumes.apply(clean_text)\n",
        "        X = self.vectorizer.fit_transform(resumes)\n",
        "        self.nb.fit(X, labels)\n",
        "        self.lr.fit(X, labels)\n",
        "        self._fitted = True\n",
        "\n",
        "    def evaluate(self, resumes, labels):\n",
        "        X = self.vectorizer.transform(resumes.apply(clean_text))\n",
        "        nb_acc = accuracy_score(labels, self.nb.predict(X))\n",
        "        lr_acc = accuracy_score(labels, self.lr.predict(X))\n",
        "        return {\"nb_accuracy\": nb_acc, \"lr_accuracy\": lr_acc}\n",
        "\n",
        "    def content_scores(self, resume_text: str):\n",
        "        X_new = self.vectorizer.transform([clean_text(resume_text)])\n",
        "        nb_probs = self.nb.predict_proba(X_new)[0]\n",
        "        lr_probs = self.lr.predict_proba(X_new)[0]\n",
        "        labels = self.nb.classes_\n",
        "        probs = (nb_probs + lr_probs) / 2.0\n",
        "        return {label: float(p) for label, p in zip(labels, probs)}\n"
      ],
      "metadata": {
        "id": "zAsM4dfsJCAk"
      },
      "execution_count": 2,
      "outputs": []
    },
    {
      "cell_type": "code",
      "source": [
        "class CFModelSVD:\n",
        "    def __init__(self):\n",
        "        self.reader = Reader(rating_scale=(0.0, 1.0))\n",
        "        self.algo = None\n",
        "\n",
        "    def fit(self, interactions_df):\n",
        "        data = SurpriseDataset.load_from_df(interactions_df[['user_id','job_id','rating']], self.reader)\n",
        "        trainset = data.build_full_trainset()\n",
        "        self.algo = SVD()\n",
        "        self.algo.fit(trainset)\n",
        "\n",
        "    def predict_scores(self, user_id, items):\n",
        "        scores = {}\n",
        "        for job in items:\n",
        "            est = self.algo.predict(str(user_id), str(job)).est\n",
        "            scores[job] = float(est)\n",
        "        return scores\n"
      ],
      "metadata": {
        "id": "qI3lzpsAJIec"
      },
      "execution_count": 3,
      "outputs": []
    },
    {
      "cell_type": "code",
      "source": [
        "class CFModelSVD:\n",
        "    def __init__(self):\n",
        "        self.reader = Reader(rating_scale=(0.0, 1.0))\n",
        "        self.algo = None\n",
        "\n",
        "    def fit(self, interactions_df):\n",
        "        data = SurpriseDataset.load_from_df(interactions_df[['user_id','job_id','rating']], self.reader)\n",
        "        trainset = data.build_full_trainset()\n",
        "        self.algo = SVD()\n",
        "        self.algo.fit(trainset)\n",
        "\n",
        "    def predict_scores(self, user_id, items):\n",
        "        scores = {}\n",
        "        for job in items:\n",
        "            est = self.algo.predict(str(user_id), str(job)).est\n",
        "            scores[job] = float(est)\n",
        "        return scores\n"
      ],
      "metadata": {
        "id": "q2qrrwU_JLdA"
      },
      "execution_count": 4,
      "outputs": []
    },
    {
      "cell_type": "code",
      "source": [
        "class HybridRecommender:\n",
        "    def __init__(self, content, cf=None, alpha=0.6):\n",
        "        self.content = content\n",
        "        self.cf = cf\n",
        "        self.alpha = alpha\n",
        "\n",
        "    def recommend(self, resume_text=None, user_id=None, job_labels=None, top_k=10):\n",
        "        if job_labels is None:\n",
        "            job_labels = list(self.content.nb.classes_)\n",
        "\n",
        "        content_scores = {j: 0.0 for j in job_labels}\n",
        "        if resume_text:\n",
        "            content_scores = self.content.content_scores(resume_text)\n",
        "\n",
        "        cf_scores = {j: 0.0 for j in job_labels}\n",
        "        if self.cf and user_id is not None:\n",
        "            cf_scores = self.cf.predict_scores(user_id, job_labels)\n",
        "\n",
        "        final = {j: self.alpha * content_scores.get(j,0) + (1-self.alpha)*cf_scores.get(j,0) for j in job_labels}\n",
        "        ranked = sorted(final.items(), key=lambda x:x[1], reverse=True)[:top_k]\n",
        "\n",
        "        results = []\n",
        "        for job,score in ranked:\n",
        "            why = []\n",
        "            if content_scores.get(job,0)>0: why.append(\"Skills/keywords matched resume\")\n",
        "            if cf_scores.get(job,0)>0: why.append(\"Similar users applied here\")\n",
        "            results.append({\"job\":job,\"score\":score,\"why\":why})\n",
        "        return results\n"
      ],
      "metadata": {
        "id": "uhXCt5OeJObA"
      },
      "execution_count": 5,
      "outputs": []
    },
    {
      "cell_type": "code",
      "source": [
        "import random\n",
        "\n",
        "job_categories = df['Category'].unique().tolist()\n",
        "\n",
        "num_users = 50\n",
        "interactions_list = []\n",
        "\n",
        "action_weights = {\n",
        "    'applied': 1.0,\n",
        "    'saved': 0.7,\n",
        "    'viewed': 0.5,\n",
        "    'searched': 0.3,\n",
        "}\n",
        "\n",
        "for user_id in range(1, num_users+1):\n",
        "    sampled_jobs = random.sample(job_categories, k=min(len(job_categories), random.randint(5, 10)))\n",
        "    for job in sampled_jobs:\n",
        "        action = random.choice(list(action_weights.keys()))\n",
        "        rating = action_weights[action]\n",
        "        interactions_list.append([user_id, job, rating])\n",
        "\n",
        "interactions = pd.DataFrame(interactions_list, columns=['user_id', 'job_id', 'rating'])\n",
        "\n",
        "print(\"✅ Dummy interactions dataset created.\")\n",
        "print(interactions.head())\n"
      ],
      "metadata": {
        "colab": {
          "base_uri": "https://localhost:8080/"
        },
        "id": "gHpVs6TlK_xp",
        "outputId": "7ac90090-0e7b-4f45-e546-6ff375583b45"
      },
      "execution_count": 13,
      "outputs": [
        {
          "output_type": "stream",
          "name": "stdout",
          "text": [
            "✅ Dummy interactions dataset created.\n",
            "   user_id              job_id  rating\n",
            "0        1    Python Developer     0.3\n",
            "1        1       SAP Developer     0.5\n",
            "2        1  Operations Manager     1.0\n",
            "3        1             Testing     0.7\n",
            "4        1  Health and fitness     0.3\n"
          ]
        }
      ]
    },
    {
      "cell_type": "code",
      "source": [
        "cf_model = CFModelSVD()\n",
        "cf_model.fit(interactions)\n",
        "print(\"✅ CF model trained on dummy data.\")\n"
      ],
      "metadata": {
        "colab": {
          "base_uri": "https://localhost:8080/"
        },
        "id": "4srGL0G4JVjn",
        "outputId": "7bbdd1b0-078e-4910-f956-bed04dc9b5f4"
      },
      "execution_count": 14,
      "outputs": [
        {
          "output_type": "stream",
          "name": "stdout",
          "text": [
            "✅ CF model trained on dummy data.\n"
          ]
        }
      ]
    },
    {
      "cell_type": "code",
      "source": [
        "import datetime\n",
        "\n",
        "try:\n",
        "    interactions = pd.read_csv(\"interactions.csv\")\n",
        "except FileNotFoundError:\n",
        "    interactions = pd.DataFrame(columns=[\"user_id\", \"job_id\", \"rating\", \"timestamp\"])\n",
        "\n",
        "ACTION_WEIGHTS = {\n",
        "    \"applied\": 1.0,\n",
        "    \"saved\": 0.7,\n",
        "    \"viewed\": 0.5,\n",
        "    \"searched\": 0.3,\n",
        "}\n",
        "\n",
        "def log_interaction(user_id, job_id, action):\n",
        "    \"\"\"Log a student action (applied, saved, viewed, searched).\"\"\"\n",
        "    rating = ACTION_WEIGHTS.get(action, 0.3)\n",
        "    timestamp = datetime.datetime.now().isoformat()\n",
        "\n",
        "    new_entry = pd.DataFrame([[user_id, job_id, rating, timestamp]],\n",
        "                             columns=[\"user_id\", \"job_id\", \"rating\", \"timestamp\"])\n",
        "\n",
        "    global interactions\n",
        "    interactions = pd.concat([interactions, new_entry], ignore_index=True)\n",
        "\n",
        "    interactions.to_csv(\"interactions.csv\", index=False)\n",
        "\n",
        "    print(f\"✅ Logged: user {user_id} {action} job {job_id} (rating={rating})\")\n"
      ],
      "metadata": {
        "id": "8rXu8ZhKMhz9"
      },
      "execution_count": 18,
      "outputs": []
    },
    {
      "cell_type": "code",
      "source": [
        "cf_model = CFModelSVD()\n",
        "cf_model.fit(interactions)\n",
        "print(\"✅ CF model retrained with new interactions.\")\n"
      ],
      "metadata": {
        "colab": {
          "base_uri": "https://localhost:8080/"
        },
        "id": "A_Qn2dhqMjpa",
        "outputId": "b8a94d61-250b-45e4-86cb-c13358c71efa"
      },
      "execution_count": 19,
      "outputs": [
        {
          "output_type": "stream",
          "name": "stdout",
          "text": [
            "✅ CF model retrained with new interactions.\n"
          ]
        },
        {
          "output_type": "stream",
          "name": "stderr",
          "text": [
            "/usr/local/lib/python3.12/dist-packages/numpy/core/fromnumeric.py:3504: RuntimeWarning: Mean of empty slice.\n",
            "  return _methods._mean(a, axis=axis, dtype=dtype,\n",
            "/usr/local/lib/python3.12/dist-packages/numpy/core/_methods.py:129: RuntimeWarning: invalid value encountered in scalar divide\n",
            "  ret = ret.dtype.type(ret / rcount)\n"
          ]
        }
      ]
    },
    {
      "cell_type": "code",
      "source": [
        "log_interaction(user_id=42, job_id=\"Data Science\", action=\"searched\")\n",
        "\n",
        "log_interaction(user_id=42, job_id=\"Machine Learning Engineer\", action=\"applied\")\n",
        "\n",
        "# Retrain CF\n",
        "cf_model.fit(interactions)\n",
        "\n",
        "# Now recommend for user 42\n",
        "resume_text = \"Student skilled in Python, ML, and data analysis projects.\"\n",
        "recs = hybrid.recommend(resume_text, user_id=42, top_k=5)\n",
        "\n",
        "print(\"\\n🎯 Updated Hybrid Recommendations for user 42:\\n\")\n",
        "for r in recs:\n",
        "    print(f\"- {r['job']} | {r['score']:.4f} | Why: {', '.join(r['why'])}\")\n"
      ],
      "metadata": {
        "colab": {
          "base_uri": "https://localhost:8080/"
        },
        "id": "zCP8Qd-WMm51",
        "outputId": "e0b9395d-8334-4387-d77d-0aa6047ef027"
      },
      "execution_count": 20,
      "outputs": [
        {
          "output_type": "stream",
          "name": "stdout",
          "text": [
            "✅ Logged: user 42 searched job Data Science (rating=0.3)\n",
            "✅ Logged: user 42 applied job Machine Learning Engineer (rating=1.0)\n",
            "\n",
            "🎯 Updated Hybrid Recommendations for user 42:\n",
            "\n",
            "- Testing | 0.3218 | Why: Skills/keywords matched resume, Similar users applied here\n",
            "- Python Developer | 0.3154 | Why: Skills/keywords matched resume, Similar users applied here\n",
            "- PMO | 0.3057 | Why: Skills/keywords matched resume, Similar users applied here\n",
            "- Web Designing | 0.2943 | Why: Skills/keywords matched resume, Similar users applied here\n",
            "- Data Science | 0.2919 | Why: Skills/keywords matched resume, Similar users applied here\n"
          ]
        },
        {
          "output_type": "stream",
          "name": "stderr",
          "text": [
            "/tmp/ipython-input-1802138350.py:26: FutureWarning: The behavior of DataFrame concatenation with empty or all-NA entries is deprecated. In a future version, this will no longer exclude empty or all-NA columns when determining the result dtypes. To retain the old behavior, exclude the relevant entries before the concat operation.\n",
            "  interactions = pd.concat([interactions, new_entry], ignore_index=True)\n"
          ]
        }
      ]
    },
    {
      "cell_type": "code",
      "source": [
        "test_user = 10\n",
        "job_labels = job_categories[:5]  # just pick first 5 categories for display\n",
        "\n",
        "cf_scores = cf_model.predict_scores(test_user, job_labels)\n",
        "\n",
        "print(f\"📌 Collaborative predictions for user {test_user}:\")\n",
        "for job, score in cf_scores.items():\n",
        "    print(f\"- {job}: {score:.4f}\")"
      ],
      "metadata": {
        "colab": {
          "base_uri": "https://localhost:8080/"
        },
        "id": "2OBKIA5vJf37",
        "outputId": "9fe5ef5d-dc7c-4bf4-afc7-ce46e5648b93"
      },
      "execution_count": 15,
      "outputs": [
        {
          "output_type": "stream",
          "name": "stdout",
          "text": [
            "📌 Collaborative predictions for user 10:\n",
            "- Data Science: 0.5614\n",
            "- HR: 0.6388\n",
            "- Advocate: 0.6595\n",
            "- Arts: 0.6629\n",
            "- Web Designing: 0.6820\n"
          ]
        }
      ]
    },
    {
      "cell_type": "code",
      "source": [
        "resume_text = \"\"\"Experienced software engineer skilled in Python, Flask, and machine learning.\n",
        "Worked on full stack projects, chatbots, and data science pipelines.\"\"\"\n",
        "\n",
        "hybrid = HybridRecommender(content_model, cf_model, alpha=0.6)\n",
        "\n",
        "recs = hybrid.recommend(resume_text, user_id=10, top_k=5)\n",
        "\n",
        "print(\"\\n🎯 Hybrid Recommendations (with dummy CF):\\n\")\n",
        "for r in recs:\n",
        "    print(f\"- {r['job']} | {r['score']:.4f} | Why: {', '.join(r['why'])}\")\n"
      ],
      "metadata": {
        "colab": {
          "base_uri": "https://localhost:8080/"
        },
        "id": "BotsJfcfJn61",
        "outputId": "f48082c6-e19a-46b3-f284-e8eaea87bf4b"
      },
      "execution_count": 16,
      "outputs": [
        {
          "output_type": "stream",
          "name": "stdout",
          "text": [
            "\n",
            "🎯 Hybrid Recommendations (with dummy CF):\n",
            "\n",
            "- Data Science | 0.4252 | Why: Skills/keywords matched resume, Similar users applied here\n",
            "- Testing | 0.3184 | Why: Skills/keywords matched resume, Similar users applied here\n",
            "- PMO | 0.2988 | Why: Skills/keywords matched resume, Similar users applied here\n",
            "- Python Developer | 0.2899 | Why: Skills/keywords matched resume, Similar users applied here\n",
            "- Web Designing | 0.2879 | Why: Skills/keywords matched resume, Similar users applied here\n"
          ]
        }
      ]
    },
    {
      "cell_type": "code",
      "source": [
        "! pip install docx2txt pdfplumber"
      ],
      "metadata": {
        "colab": {
          "base_uri": "https://localhost:8080/"
        },
        "id": "hf89TRXyJ-Zb",
        "outputId": "530bc121-b887-4cd0-a265-a35bb4f819c6"
      },
      "execution_count": 11,
      "outputs": [
        {
          "output_type": "stream",
          "name": "stdout",
          "text": [
            "Collecting docx2txt\n",
            "  Downloading docx2txt-0.9-py3-none-any.whl.metadata (529 bytes)\n",
            "Collecting pdfplumber\n",
            "  Downloading pdfplumber-0.11.7-py3-none-any.whl.metadata (42 kB)\n",
            "Collecting pdfminer.six==20250506 (from pdfplumber)\n",
            "  Downloading pdfminer_six-20250506-py3-none-any.whl.metadata (4.2 kB)\n",
            "Requirement already satisfied: Pillow>=9.1 in /usr/local/lib/python3.12/dist-packages (from pdfplumber) (11.3.0)\n",
            "Collecting pypdfium2>=4.18.0 (from pdfplumber)\n",
            "  Downloading pypdfium2-4.30.0-py3-none-manylinux_2_17_x86_64.manylinux2014_x86_64.whl.metadata (48 kB)\n",
            "Requirement already satisfied: charset-normalizer>=2.0.0 in /usr/local/lib/python3.12/dist-packages (from pdfminer.six==20250506->pdfplumber) (3.4.3)\n",
            "Requirement already satisfied: cryptography>=36.0.0 in /usr/local/lib/python3.12/dist-packages (from pdfminer.six==20250506->pdfplumber) (43.0.3)\n",
            "Requirement already satisfied: cffi>=1.12 in /usr/local/lib/python3.12/dist-packages (from cryptography>=36.0.0->pdfminer.six==20250506->pdfplumber) (1.17.1)\n",
            "Requirement already satisfied: pycparser in /usr/local/lib/python3.12/dist-packages (from cffi>=1.12->cryptography>=36.0.0->pdfminer.six==20250506->pdfplumber) (2.22)\n",
            "Downloading docx2txt-0.9-py3-none-any.whl (4.0 kB)\n",
            "Downloading pdfplumber-0.11.7-py3-none-any.whl (60 kB)\n",
            "Downloading pdfminer_six-20250506-py3-none-any.whl (5.6 MB)\n",
            "\u001b[2K   \u001b[90m━━━━━━━━━━━━━━━━━━━━━━━━━━━━━━━━━━━━━━━━\u001b[0m \u001b[32m5.6/5.6 MB\u001b[0m \u001b[31m86.3 MB/s\u001b[0m  \u001b[33m0:00:00\u001b[0m\n",
            "\u001b[?25hDownloading pypdfium2-4.30.0-py3-none-manylinux_2_17_x86_64.manylinux2014_x86_64.whl (2.8 MB)\n",
            "\u001b[2K   \u001b[90m━━━━━━━━━━━━━━━━━━━━━━━━━━━━━━━━━━━━━━━━\u001b[0m \u001b[32m2.8/2.8 MB\u001b[0m \u001b[31m108.5 MB/s\u001b[0m  \u001b[33m0:00:00\u001b[0m\n",
            "\u001b[?25hInstalling collected packages: docx2txt, pypdfium2, pdfminer.six, pdfplumber\n",
            "\u001b[2K   \u001b[90m━━━━━━━━━━━━━━━━━━━━━━━━━━━━━━━━━━━━━━━━\u001b[0m \u001b[32m4/4\u001b[0m [pdfplumber]\n",
            "\u001b[1A\u001b[2KSuccessfully installed docx2txt-0.9 pdfminer.six-20250506 pdfplumber-0.11.7 pypdfium2-4.30.0\n"
          ]
        }
      ]
    },
    {
      "cell_type": "code",
      "source": [
        "from google.colab import files\n",
        "import docx2txt\n",
        "import pdfplumber\n",
        "\n",
        "# Upload a resume file\n",
        "uploaded = files.upload()\n",
        "filename = list(uploaded.keys())[0]\n",
        "\n",
        "# Extract text from DOCX or PDF\n",
        "resume_text = \"\"\n",
        "if filename.endswith(\".docx\"):\n",
        "    resume_text = docx2txt.process(filename)\n",
        "elif filename.endswith(\".pdf\"):\n",
        "    with pdfplumber.open(filename) as pdf:\n",
        "        for page in pdf.pages:\n",
        "            resume_text += page.extract_text() + \"\\n\"\n",
        "else:\n",
        "    with open(filename, \"r\", encoding=\"utf-8\") as f:\n",
        "        resume_text = f.read()\n",
        "\n",
        "print(\"✅ Resume text extracted successfully.\")\n",
        "\n",
        "# 🔹 Cold-start handling: if no user_id available, set to None\n",
        "user_id = 4  # change to an int if you have logs (e.g., 10), else keep None\n",
        "\n",
        "# Run hybrid recommender\n",
        "recs = hybrid.recommend(resume_text, user_id=user_id, top_k=5)\n",
        "\n",
        "print(\"\\n🎯 Top Job Recommendations:\\n\")\n",
        "for r in recs:\n",
        "    print(f\"- {r['job']} | score={r['score']:.4f} | why: {', '.join(r['why']) if r['why'] else 'Based on skills only'}\")\n"
      ],
      "metadata": {
        "colab": {
          "base_uri": "https://localhost:8080/",
          "height": 229
        },
        "id": "tM3g4DVCJwEs",
        "outputId": "b7b1da9f-cfd0-40dc-fadc-433800f1dfdb"
      },
      "execution_count": 26,
      "outputs": [
        {
          "output_type": "display_data",
          "data": {
            "text/plain": [
              "<IPython.core.display.HTML object>"
            ],
            "text/html": [
              "\n",
              "     <input type=\"file\" id=\"files-205852af-a2b6-4936-9061-ed3eb33156f6\" name=\"files[]\" multiple disabled\n",
              "        style=\"border:none\" />\n",
              "     <output id=\"result-205852af-a2b6-4936-9061-ed3eb33156f6\">\n",
              "      Upload widget is only available when the cell has been executed in the\n",
              "      current browser session. Please rerun this cell to enable.\n",
              "      </output>\n",
              "      <script>// Copyright 2017 Google LLC\n",
              "//\n",
              "// Licensed under the Apache License, Version 2.0 (the \"License\");\n",
              "// you may not use this file except in compliance with the License.\n",
              "// You may obtain a copy of the License at\n",
              "//\n",
              "//      http://www.apache.org/licenses/LICENSE-2.0\n",
              "//\n",
              "// Unless required by applicable law or agreed to in writing, software\n",
              "// distributed under the License is distributed on an \"AS IS\" BASIS,\n",
              "// WITHOUT WARRANTIES OR CONDITIONS OF ANY KIND, either express or implied.\n",
              "// See the License for the specific language governing permissions and\n",
              "// limitations under the License.\n",
              "\n",
              "/**\n",
              " * @fileoverview Helpers for google.colab Python module.\n",
              " */\n",
              "(function(scope) {\n",
              "function span(text, styleAttributes = {}) {\n",
              "  const element = document.createElement('span');\n",
              "  element.textContent = text;\n",
              "  for (const key of Object.keys(styleAttributes)) {\n",
              "    element.style[key] = styleAttributes[key];\n",
              "  }\n",
              "  return element;\n",
              "}\n",
              "\n",
              "// Max number of bytes which will be uploaded at a time.\n",
              "const MAX_PAYLOAD_SIZE = 100 * 1024;\n",
              "\n",
              "function _uploadFiles(inputId, outputId) {\n",
              "  const steps = uploadFilesStep(inputId, outputId);\n",
              "  const outputElement = document.getElementById(outputId);\n",
              "  // Cache steps on the outputElement to make it available for the next call\n",
              "  // to uploadFilesContinue from Python.\n",
              "  outputElement.steps = steps;\n",
              "\n",
              "  return _uploadFilesContinue(outputId);\n",
              "}\n",
              "\n",
              "// This is roughly an async generator (not supported in the browser yet),\n",
              "// where there are multiple asynchronous steps and the Python side is going\n",
              "// to poll for completion of each step.\n",
              "// This uses a Promise to block the python side on completion of each step,\n",
              "// then passes the result of the previous step as the input to the next step.\n",
              "function _uploadFilesContinue(outputId) {\n",
              "  const outputElement = document.getElementById(outputId);\n",
              "  const steps = outputElement.steps;\n",
              "\n",
              "  const next = steps.next(outputElement.lastPromiseValue);\n",
              "  return Promise.resolve(next.value.promise).then((value) => {\n",
              "    // Cache the last promise value to make it available to the next\n",
              "    // step of the generator.\n",
              "    outputElement.lastPromiseValue = value;\n",
              "    return next.value.response;\n",
              "  });\n",
              "}\n",
              "\n",
              "/**\n",
              " * Generator function which is called between each async step of the upload\n",
              " * process.\n",
              " * @param {string} inputId Element ID of the input file picker element.\n",
              " * @param {string} outputId Element ID of the output display.\n",
              " * @return {!Iterable<!Object>} Iterable of next steps.\n",
              " */\n",
              "function* uploadFilesStep(inputId, outputId) {\n",
              "  const inputElement = document.getElementById(inputId);\n",
              "  inputElement.disabled = false;\n",
              "\n",
              "  const outputElement = document.getElementById(outputId);\n",
              "  outputElement.innerHTML = '';\n",
              "\n",
              "  const pickedPromise = new Promise((resolve) => {\n",
              "    inputElement.addEventListener('change', (e) => {\n",
              "      resolve(e.target.files);\n",
              "    });\n",
              "  });\n",
              "\n",
              "  const cancel = document.createElement('button');\n",
              "  inputElement.parentElement.appendChild(cancel);\n",
              "  cancel.textContent = 'Cancel upload';\n",
              "  const cancelPromise = new Promise((resolve) => {\n",
              "    cancel.onclick = () => {\n",
              "      resolve(null);\n",
              "    };\n",
              "  });\n",
              "\n",
              "  // Wait for the user to pick the files.\n",
              "  const files = yield {\n",
              "    promise: Promise.race([pickedPromise, cancelPromise]),\n",
              "    response: {\n",
              "      action: 'starting',\n",
              "    }\n",
              "  };\n",
              "\n",
              "  cancel.remove();\n",
              "\n",
              "  // Disable the input element since further picks are not allowed.\n",
              "  inputElement.disabled = true;\n",
              "\n",
              "  if (!files) {\n",
              "    return {\n",
              "      response: {\n",
              "        action: 'complete',\n",
              "      }\n",
              "    };\n",
              "  }\n",
              "\n",
              "  for (const file of files) {\n",
              "    const li = document.createElement('li');\n",
              "    li.append(span(file.name, {fontWeight: 'bold'}));\n",
              "    li.append(span(\n",
              "        `(${file.type || 'n/a'}) - ${file.size} bytes, ` +\n",
              "        `last modified: ${\n",
              "            file.lastModifiedDate ? file.lastModifiedDate.toLocaleDateString() :\n",
              "                                    'n/a'} - `));\n",
              "    const percent = span('0% done');\n",
              "    li.appendChild(percent);\n",
              "\n",
              "    outputElement.appendChild(li);\n",
              "\n",
              "    const fileDataPromise = new Promise((resolve) => {\n",
              "      const reader = new FileReader();\n",
              "      reader.onload = (e) => {\n",
              "        resolve(e.target.result);\n",
              "      };\n",
              "      reader.readAsArrayBuffer(file);\n",
              "    });\n",
              "    // Wait for the data to be ready.\n",
              "    let fileData = yield {\n",
              "      promise: fileDataPromise,\n",
              "      response: {\n",
              "        action: 'continue',\n",
              "      }\n",
              "    };\n",
              "\n",
              "    // Use a chunked sending to avoid message size limits. See b/62115660.\n",
              "    let position = 0;\n",
              "    do {\n",
              "      const length = Math.min(fileData.byteLength - position, MAX_PAYLOAD_SIZE);\n",
              "      const chunk = new Uint8Array(fileData, position, length);\n",
              "      position += length;\n",
              "\n",
              "      const base64 = btoa(String.fromCharCode.apply(null, chunk));\n",
              "      yield {\n",
              "        response: {\n",
              "          action: 'append',\n",
              "          file: file.name,\n",
              "          data: base64,\n",
              "        },\n",
              "      };\n",
              "\n",
              "      let percentDone = fileData.byteLength === 0 ?\n",
              "          100 :\n",
              "          Math.round((position / fileData.byteLength) * 100);\n",
              "      percent.textContent = `${percentDone}% done`;\n",
              "\n",
              "    } while (position < fileData.byteLength);\n",
              "  }\n",
              "\n",
              "  // All done.\n",
              "  yield {\n",
              "    response: {\n",
              "      action: 'complete',\n",
              "    }\n",
              "  };\n",
              "}\n",
              "\n",
              "scope.google = scope.google || {};\n",
              "scope.google.colab = scope.google.colab || {};\n",
              "scope.google.colab._files = {\n",
              "  _uploadFiles,\n",
              "  _uploadFilesContinue,\n",
              "};\n",
              "})(self);\n",
              "</script> "
            ]
          },
          "metadata": {}
        },
        {
          "output_type": "stream",
          "name": "stdout",
          "text": [
            "Saving Sudhamani-M-J.pdf to Sudhamani-M-J.pdf\n",
            "✅ Resume text extracted successfully.\n",
            "\n",
            "🎯 Top Job Recommendations:\n",
            "\n",
            "- Data Science | score=0.3663 | why: Skills/keywords matched resume, Similar users applied here\n",
            "- Testing | score=0.3201 | why: Skills/keywords matched resume, Similar users applied here\n",
            "- Java Developer | score=0.3012 | why: Skills/keywords matched resume, Similar users applied here\n",
            "- PMO | score=0.3004 | why: Skills/keywords matched resume, Similar users applied here\n",
            "- Web Designing | score=0.2914 | why: Skills/keywords matched resume, Similar users applied here\n"
          ]
        }
      ]
    }
  ]
}