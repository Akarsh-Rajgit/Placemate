{
  "nbformat": 4,
  "nbformat_minor": 0,
  "metadata": {
    "colab": {
      "provenance": []
    },
    "kernelspec": {
      "name": "python3",
      "display_name": "Python 3"
    },
    "language_info": {
      "name": "python"
    }
  },
  "cells": [
    {
      "cell_type": "code",
      "execution_count": 1,
      "metadata": {
        "colab": {
          "base_uri": "https://localhost:8080/",
          "height": 1000
        },
        "id": "NlUhTvFFX0oe",
        "outputId": "a6a69b96-1300-4810-d3a8-a3e55e1c55f7"
      },
      "outputs": [
        {
          "output_type": "stream",
          "name": "stdout",
          "text": [
            "Collecting numpy<2.0\n",
            "  Downloading numpy-1.26.4-cp312-cp312-manylinux_2_17_x86_64.manylinux2014_x86_64.whl.metadata (61 kB)\n",
            "\u001b[2K     \u001b[90m━━━━━━━━━━━━━━━━━━━━━━━━━━━━━━━━━━━━━━━━\u001b[0m \u001b[32m61.0/61.0 kB\u001b[0m \u001b[31m2.7 MB/s\u001b[0m eta \u001b[36m0:00:00\u001b[0m\n",
            "\u001b[?25hCollecting pandas\n",
            "  Downloading pandas-2.3.2-cp312-cp312-manylinux_2_17_x86_64.manylinux2014_x86_64.whl.metadata (91 kB)\n",
            "\u001b[2K     \u001b[90m━━━━━━━━━━━━━━━━━━━━━━━━━━━━━━━━━━━━━━━━\u001b[0m \u001b[32m91.2/91.2 kB\u001b[0m \u001b[31m4.8 MB/s\u001b[0m eta \u001b[36m0:00:00\u001b[0m\n",
            "\u001b[?25hCollecting scikit-learn\n",
            "  Downloading scikit_learn-1.7.1-cp312-cp312-manylinux2014_x86_64.manylinux_2_17_x86_64.whl.metadata (11 kB)\n",
            "Collecting scikit-surprise==1.1.4\n",
            "  Downloading scikit_surprise-1.1.4.tar.gz (154 kB)\n",
            "\u001b[2K     \u001b[90m━━━━━━━━━━━━━━━━━━━━━━━━━━━━━━━━━━━━━━\u001b[0m \u001b[32m154.4/154.4 kB\u001b[0m \u001b[31m11.4 MB/s\u001b[0m eta \u001b[36m0:00:00\u001b[0m\n",
            "\u001b[?25h  Installing build dependencies ... \u001b[?25l\u001b[?25hdone\n",
            "  Getting requirements to build wheel ... \u001b[?25l\u001b[?25hdone\n",
            "  Preparing metadata (pyproject.toml) ... \u001b[?25l\u001b[?25hdone\n",
            "Collecting joblib>=1.2.0 (from scikit-surprise==1.1.4)\n",
            "  Downloading joblib-1.5.1-py3-none-any.whl.metadata (5.6 kB)\n",
            "Collecting scipy>=1.6.0 (from scikit-surprise==1.1.4)\n",
            "  Downloading scipy-1.16.1-cp312-cp312-manylinux2014_x86_64.manylinux_2_17_x86_64.whl.metadata (61 kB)\n",
            "\u001b[2K     \u001b[90m━━━━━━━━━━━━━━━━━━━━━━━━━━━━━━━━━━━━━━━━\u001b[0m \u001b[32m62.0/62.0 kB\u001b[0m \u001b[31m3.6 MB/s\u001b[0m eta \u001b[36m0:00:00\u001b[0m\n",
            "\u001b[?25hCollecting python-dateutil>=2.8.2 (from pandas)\n",
            "  Downloading python_dateutil-2.9.0.post0-py2.py3-none-any.whl.metadata (8.4 kB)\n",
            "Collecting pytz>=2020.1 (from pandas)\n",
            "  Downloading pytz-2025.2-py2.py3-none-any.whl.metadata (22 kB)\n",
            "Collecting tzdata>=2022.7 (from pandas)\n",
            "  Downloading tzdata-2025.2-py2.py3-none-any.whl.metadata (1.4 kB)\n",
            "Collecting threadpoolctl>=3.1.0 (from scikit-learn)\n",
            "  Downloading threadpoolctl-3.6.0-py3-none-any.whl.metadata (13 kB)\n",
            "Collecting six>=1.5 (from python-dateutil>=2.8.2->pandas)\n",
            "  Downloading six-1.17.0-py2.py3-none-any.whl.metadata (1.7 kB)\n",
            "Downloading numpy-1.26.4-cp312-cp312-manylinux_2_17_x86_64.manylinux2014_x86_64.whl (18.0 MB)\n",
            "\u001b[2K   \u001b[90m━━━━━━━━━━━━━━━━━━━━━━━━━━━━━━━━━━━━━━━━\u001b[0m \u001b[32m18.0/18.0 MB\u001b[0m \u001b[31m78.8 MB/s\u001b[0m eta \u001b[36m0:00:00\u001b[0m\n",
            "\u001b[?25hDownloading pandas-2.3.2-cp312-cp312-manylinux_2_17_x86_64.manylinux2014_x86_64.whl (12.0 MB)\n",
            "\u001b[2K   \u001b[90m━━━━━━━━━━━━━━━━━━━━━━━━━━━━━━━━━━━━━━━━\u001b[0m \u001b[32m12.0/12.0 MB\u001b[0m \u001b[31m85.7 MB/s\u001b[0m eta \u001b[36m0:00:00\u001b[0m\n",
            "\u001b[?25hDownloading scikit_learn-1.7.1-cp312-cp312-manylinux2014_x86_64.manylinux_2_17_x86_64.whl (9.5 MB)\n",
            "\u001b[2K   \u001b[90m━━━━━━━━━━━━━━━━━━━━━━━━━━━━━━━━━━━━━━━━\u001b[0m \u001b[32m9.5/9.5 MB\u001b[0m \u001b[31m77.9 MB/s\u001b[0m eta \u001b[36m0:00:00\u001b[0m\n",
            "\u001b[?25hDownloading joblib-1.5.1-py3-none-any.whl (307 kB)\n",
            "\u001b[2K   \u001b[90m━━━━━━━━━━━━━━━━━━━━━━━━━━━━━━━━━━━━━━━━\u001b[0m \u001b[32m307.7/307.7 kB\u001b[0m \u001b[31m14.9 MB/s\u001b[0m eta \u001b[36m0:00:00\u001b[0m\n",
            "\u001b[?25hDownloading python_dateutil-2.9.0.post0-py2.py3-none-any.whl (229 kB)\n",
            "\u001b[2K   \u001b[90m━━━━━━━━━━━━━━━━━━━━━━━━━━━━━━━━━━━━━━━━\u001b[0m \u001b[32m229.9/229.9 kB\u001b[0m \u001b[31m14.1 MB/s\u001b[0m eta \u001b[36m0:00:00\u001b[0m\n",
            "\u001b[?25hDownloading pytz-2025.2-py2.py3-none-any.whl (509 kB)\n",
            "\u001b[2K   \u001b[90m━━━━━━━━━━━━━━━━━━━━━━━━━━━━━━━━━━━━━━━━\u001b[0m \u001b[32m509.2/509.2 kB\u001b[0m \u001b[31m14.0 MB/s\u001b[0m eta \u001b[36m0:00:00\u001b[0m\n",
            "\u001b[?25hDownloading scipy-1.16.1-cp312-cp312-manylinux2014_x86_64.manylinux_2_17_x86_64.whl (35.2 MB)\n",
            "\u001b[2K   \u001b[90m━━━━━━━━━━━━━━━━━━━━━━━━━━━━━━━━━━━━━━━━\u001b[0m \u001b[32m35.2/35.2 MB\u001b[0m \u001b[31m16.1 MB/s\u001b[0m eta \u001b[36m0:00:00\u001b[0m\n",
            "\u001b[?25hDownloading threadpoolctl-3.6.0-py3-none-any.whl (18 kB)\n",
            "Downloading tzdata-2025.2-py2.py3-none-any.whl (347 kB)\n",
            "\u001b[2K   \u001b[90m━━━━━━━━━━━━━━━━━━━━━━━━━━━━━━━━━━━━━━━━\u001b[0m \u001b[32m347.8/347.8 kB\u001b[0m \u001b[31m11.2 MB/s\u001b[0m eta \u001b[36m0:00:00\u001b[0m\n",
            "\u001b[?25hDownloading six-1.17.0-py2.py3-none-any.whl (11 kB)\n",
            "Building wheels for collected packages: scikit-surprise\n",
            "  Building wheel for scikit-surprise (pyproject.toml) ... \u001b[?25l\u001b[?25hdone\n",
            "  Created wheel for scikit-surprise: filename=scikit_surprise-1.1.4-cp312-cp312-linux_x86_64.whl size=2610409 sha256=a11bd8edfe9ad8cb0230321caa312cc20f4464b884796f49ac1539d61815a26c\n",
            "  Stored in directory: /root/.cache/pip/wheels/75/fa/bc/739bc2cb1fbaab6061854e6cfbb81a0ae52c92a502a7fa454b\n",
            "Successfully built scikit-surprise\n",
            "Installing collected packages: pytz, tzdata, threadpoolctl, six, numpy, joblib, scipy, python-dateutil, scikit-surprise, scikit-learn, pandas\n",
            "  Attempting uninstall: pytz\n",
            "    Found existing installation: pytz 2025.2\n",
            "    Uninstalling pytz-2025.2:\n",
            "      Successfully uninstalled pytz-2025.2\n",
            "  Attempting uninstall: tzdata\n",
            "    Found existing installation: tzdata 2025.2\n",
            "    Uninstalling tzdata-2025.2:\n",
            "      Successfully uninstalled tzdata-2025.2\n",
            "  Attempting uninstall: threadpoolctl\n",
            "    Found existing installation: threadpoolctl 3.6.0\n",
            "    Uninstalling threadpoolctl-3.6.0:\n",
            "      Successfully uninstalled threadpoolctl-3.6.0\n",
            "  Attempting uninstall: six\n",
            "    Found existing installation: six 1.17.0\n",
            "    Uninstalling six-1.17.0:\n",
            "      Successfully uninstalled six-1.17.0\n",
            "  Attempting uninstall: numpy\n",
            "    Found existing installation: numpy 2.0.2\n",
            "    Uninstalling numpy-2.0.2:\n",
            "      Successfully uninstalled numpy-2.0.2\n",
            "  Attempting uninstall: joblib\n",
            "    Found existing installation: joblib 1.5.1\n",
            "    Uninstalling joblib-1.5.1:\n",
            "      Successfully uninstalled joblib-1.5.1\n",
            "  Attempting uninstall: scipy\n",
            "    Found existing installation: scipy 1.16.1\n",
            "    Uninstalling scipy-1.16.1:\n",
            "      Successfully uninstalled scipy-1.16.1\n",
            "  Attempting uninstall: python-dateutil\n",
            "    Found existing installation: python-dateutil 2.9.0.post0\n",
            "    Uninstalling python-dateutil-2.9.0.post0:\n",
            "      Successfully uninstalled python-dateutil-2.9.0.post0\n",
            "  Attempting uninstall: scikit-learn\n",
            "    Found existing installation: scikit-learn 1.6.1\n",
            "    Uninstalling scikit-learn-1.6.1:\n",
            "      Successfully uninstalled scikit-learn-1.6.1\n",
            "  Attempting uninstall: pandas\n",
            "    Found existing installation: pandas 2.2.2\n",
            "    Uninstalling pandas-2.2.2:\n",
            "      Successfully uninstalled pandas-2.2.2\n",
            "\u001b[31mERROR: pip's dependency resolver does not currently take into account all the packages that are installed. This behaviour is the source of the following dependency conflicts.\n",
            "google-colab 1.0.0 requires pandas==2.2.2, but you have pandas 2.3.2 which is incompatible.\n",
            "opencv-python-headless 4.12.0.88 requires numpy<2.3.0,>=2; python_version >= \"3.9\", but you have numpy 1.26.4 which is incompatible.\n",
            "opencv-contrib-python 4.12.0.88 requires numpy<2.3.0,>=2; python_version >= \"3.9\", but you have numpy 1.26.4 which is incompatible.\n",
            "cudf-cu12 25.6.0 requires pandas<2.2.4dev0,>=2.0, but you have pandas 2.3.2 which is incompatible.\n",
            "opencv-python 4.12.0.88 requires numpy<2.3.0,>=2; python_version >= \"3.9\", but you have numpy 1.26.4 which is incompatible.\n",
            "dask-cudf-cu12 25.6.0 requires pandas<2.2.4dev0,>=2.0, but you have pandas 2.3.2 which is incompatible.\n",
            "thinc 8.3.6 requires numpy<3.0.0,>=2.0.0, but you have numpy 1.26.4 which is incompatible.\u001b[0m\u001b[31m\n",
            "\u001b[0mSuccessfully installed joblib-1.5.1 numpy-1.26.4 pandas-2.3.2 python-dateutil-2.9.0.post0 pytz-2025.2 scikit-learn-1.7.1 scikit-surprise-1.1.4 scipy-1.16.1 six-1.17.0 threadpoolctl-3.6.0 tzdata-2025.2\n"
          ]
        },
        {
          "output_type": "display_data",
          "data": {
            "application/vnd.colab-display-data+json": {
              "pip_warning": {
                "packages": [
                  "dateutil",
                  "numpy",
                  "six"
                ]
              },
              "id": "f702148d810f4271ab7eee39386f630b"
            }
          },
          "metadata": {}
        }
      ],
      "source": [
        "!pip install --upgrade --force-reinstall \"numpy<2.0\" pandas scikit-learn scikit-surprise==1.1.4\n"
      ]
    },
    {
      "cell_type": "code",
      "source": [
        "import os, string, pickle, json\n",
        "import numpy as np\n",
        "import pandas as pd\n",
        "\n",
        "from sklearn.feature_extraction.text import TfidfVectorizer\n",
        "from sklearn.naive_bayes import MultinomialNB\n",
        "from sklearn.linear_model import LogisticRegression\n",
        "from sklearn.model_selection import train_test_split\n",
        "from sklearn.metrics import accuracy_score\n",
        "from surprise import Dataset as SurpriseDataset\n",
        "from surprise import Reader, SVD\n",
        "\n",
        "def clean_text(text: str) -> str:\n",
        "    if not isinstance(text, str):\n",
        "        return \"\"\n",
        "    text = text.lower()\n",
        "    text = text.replace(\"\\n\", \" \").replace(\"\\r\", \" \")\n",
        "    text = text.translate(str.maketrans('', '', string.punctuation))\n",
        "    text = ''.join(ch for ch in text if not ch.isdigit())\n",
        "    return text\n"
      ],
      "metadata": {
        "id": "sFe16W-OILFc"
      },
      "execution_count": 1,
      "outputs": []
    },
    {
      "cell_type": "code",
      "source": [
        "class ContentModels:\n",
        "    def __init__(self, max_features=7000, ngram_range=(1, 2), stop_words=\"english\"):\n",
        "        self.vectorizer = TfidfVectorizer(max_features=max_features,\n",
        "                                          ngram_range=ngram_range,\n",
        "                                          stop_words=stop_words)\n",
        "        self.nb = MultinomialNB()\n",
        "        self.lr = LogisticRegression(max_iter=1000, random_state=42)\n",
        "        self._fitted = False\n",
        "\n",
        "    def fit(self, resumes, labels):\n",
        "        resumes = resumes.apply(clean_text)\n",
        "        X = self.vectorizer.fit_transform(resumes)\n",
        "        self.nb.fit(X, labels)\n",
        "        self.lr.fit(X, labels)\n",
        "        self._fitted = True\n",
        "\n",
        "    def evaluate(self, resumes, labels):\n",
        "        X = self.vectorizer.transform(resumes.apply(clean_text))\n",
        "        nb_acc = accuracy_score(labels, self.nb.predict(X))\n",
        "        lr_acc = accuracy_score(labels, self.lr.predict(X))\n",
        "        return {\"nb_accuracy\": nb_acc, \"lr_accuracy\": lr_acc}\n",
        "\n",
        "    def content_scores(self, resume_text: str):\n",
        "        X_new = self.vectorizer.transform([clean_text(resume_text)])\n",
        "        nb_probs = self.nb.predict_proba(X_new)[0]\n",
        "        lr_probs = self.lr.predict_proba(X_new)[0]\n",
        "        labels = self.nb.classes_\n",
        "        probs = (nb_probs + lr_probs) / 2.0\n",
        "        return {label: float(p) for label, p in zip(labels, probs)}\n"
      ],
      "metadata": {
        "id": "zAsM4dfsJCAk"
      },
      "execution_count": 2,
      "outputs": []
    },
    {
      "cell_type": "code",
      "source": [
        "class CFModelSVD:\n",
        "    def __init__(self):\n",
        "        self.reader = Reader(rating_scale=(0.0, 1.0))\n",
        "        self.algo = None\n",
        "\n",
        "    def fit(self, interactions_df):\n",
        "        data = SurpriseDataset.load_from_df(interactions_df[['user_id','job_id','rating']], self.reader)\n",
        "        trainset = data.build_full_trainset()\n",
        "        self.algo = SVD()\n",
        "        self.algo.fit(trainset)\n",
        "\n",
        "    def predict_scores(self, user_id, items):\n",
        "        scores = {}\n",
        "        for job in items:\n",
        "            est = self.algo.predict(str(user_id), str(job)).est\n",
        "            scores[job] = float(est)\n",
        "        return scores\n"
      ],
      "metadata": {
        "id": "q2qrrwU_JLdA"
      },
      "execution_count": 4,
      "outputs": []
    },
    {
      "cell_type": "code",
      "source": [
        "class HybridRecommender:\n",
        "    def __init__(self, content, cf=None, alpha=0.6):\n",
        "        self.content = content\n",
        "        self.cf = cf\n",
        "        self.alpha = alpha\n",
        "\n",
        "    def recommend(self, resume_text=None, user_id=None, job_labels=None, top_k=10):\n",
        "        if job_labels is None:\n",
        "            job_labels = list(self.content.nb.classes_)\n",
        "\n",
        "        content_scores = {j: 0.0 for j in job_labels}\n",
        "        if resume_text:\n",
        "            content_scores = self.content.content_scores(resume_text)\n",
        "\n",
        "        cf_scores = {j: 0.0 for j in job_labels}\n",
        "        if self.cf and user_id is not None:\n",
        "            cf_scores = self.cf.predict_scores(user_id, job_labels)\n",
        "\n",
        "        final = {j: self.alpha * content_scores.get(j,0) + (1-self.alpha)*cf_scores.get(j,0) for j in job_labels}\n",
        "        ranked = sorted(final.items(), key=lambda x:x[1], reverse=True)[:top_k]\n",
        "\n",
        "        results = []\n",
        "        for job,score in ranked:\n",
        "            why = []\n",
        "            if content_scores.get(job,0)>0: why.append(\"Skills/keywords matched resume\")\n",
        "            if cf_scores.get(job,0)>0: why.append(\"Similar users applied here\")\n",
        "            results.append({\"job\":job,\"score\":score,\"why\":why})\n",
        "        return results\n"
      ],
      "metadata": {
        "id": "uhXCt5OeJObA"
      },
      "execution_count": 5,
      "outputs": []
    },
    {
      "cell_type": "code",
      "source": [
        "import pandas as pd\n",
        "\n",
        "file_id = \"1gIROkSSuRwqEqAk2o_IH60fUoiAL71PG\"\n",
        "url = f\"https://drive.google.com/uc?id={file_id}\"\n",
        "\n",
        "df = pd.read_csv(url, encoding=\"utf-8\")\n",
        "print(\"✅ Dataset loaded:\", df.shape)\n",
        "print(df.head())\n"
      ],
      "metadata": {
        "colab": {
          "base_uri": "https://localhost:8080/"
        },
        "id": "O3-L8SdY3GKc",
        "outputId": "8508d969-cc13-4189-9ca3-9272709520a0"
      },
      "execution_count": 6,
      "outputs": [
        {
          "output_type": "stream",
          "name": "stdout",
          "text": [
            "✅ Dataset loaded: (962, 2)\n",
            "       Category                                             Resume\n",
            "0  Data Science  Skills * Programming Languages: Python (pandas...\n",
            "1  Data Science  Education Details \\r\\nMay 2013 to May 2017 B.E...\n",
            "2  Data Science  Areas of Interest Deep Learning, Control Syste...\n",
            "3  Data Science  Skills â¢ R â¢ Python â¢ SAP HANA â¢ Table...\n",
            "4  Data Science  Education Details \\r\\n MCA   YMCAUST,  Faridab...\n"
          ]
        }
      ]
    },
    {
      "cell_type": "code",
      "source": [
        "import random\n",
        "\n",
        "job_categories = df['Category'].unique().tolist()\n",
        "\n",
        "num_users = 50\n",
        "interactions_list = []\n",
        "\n",
        "action_weights = {\n",
        "    'applied': 1.0,\n",
        "    'saved': 0.7,\n",
        "    'viewed': 0.5,\n",
        "    'searched': 0.3,\n",
        "}\n",
        "\n",
        "for user_id in range(1, num_users+1):\n",
        "    sampled_jobs = random.sample(job_categories, k=min(len(job_categories), random.randint(5, 10)))\n",
        "    for job in sampled_jobs:\n",
        "        action = random.choice(list(action_weights.keys()))\n",
        "        rating = action_weights[action]\n",
        "        interactions_list.append([user_id, job, rating])\n",
        "\n",
        "interactions = pd.DataFrame(interactions_list, columns=['user_id', 'job_id', 'rating'])\n",
        "\n",
        "print(\"✅ Dummy interactions dataset created.\")\n",
        "print(interactions.head())\n"
      ],
      "metadata": {
        "colab": {
          "base_uri": "https://localhost:8080/"
        },
        "id": "gHpVs6TlK_xp",
        "outputId": "81d125c1-2e58-461d-f01d-e6569a8195e2"
      },
      "execution_count": 7,
      "outputs": [
        {
          "output_type": "stream",
          "name": "stdout",
          "text": [
            "✅ Dummy interactions dataset created.\n",
            "   user_id              job_id  rating\n",
            "0        1    Python Developer     0.7\n",
            "1        1     DevOps Engineer     0.5\n",
            "2        1      Civil Engineer     0.7\n",
            "3        1              Hadoop     0.7\n",
            "4        1  Operations Manager     0.7\n"
          ]
        }
      ]
    },
    {
      "cell_type": "code",
      "source": [
        "cf_model = CFModelSVD()\n",
        "cf_model.fit(interactions)\n",
        "print(\"✅ CF model trained on dummy data.\")\n"
      ],
      "metadata": {
        "colab": {
          "base_uri": "https://localhost:8080/"
        },
        "id": "4srGL0G4JVjn",
        "outputId": "2f2ca608-d622-4366-c4a6-179ad0c19356"
      },
      "execution_count": 8,
      "outputs": [
        {
          "output_type": "stream",
          "name": "stdout",
          "text": [
            "✅ CF model trained on dummy data.\n"
          ]
        }
      ]
    },
    {
      "cell_type": "code",
      "source": [
        "import datetime\n",
        "\n",
        "try:\n",
        "    interactions = pd.read_csv(\"interactions.csv\")\n",
        "except FileNotFoundError:\n",
        "    interactions = pd.DataFrame(columns=[\"user_id\", \"job_id\", \"rating\", \"timestamp\"])\n",
        "\n",
        "ACTION_WEIGHTS = {\n",
        "    \"applied\": 1.0,\n",
        "    \"saved\": 0.7,\n",
        "    \"viewed\": 0.5,\n",
        "    \"searched\": 0.3,\n",
        "}\n",
        "\n",
        "def log_interaction(user_id, job_id, action):\n",
        "    \"\"\"Log a student action (applied, saved, viewed, searched).\"\"\"\n",
        "    rating = ACTION_WEIGHTS.get(action, 0.3)\n",
        "    timestamp = datetime.datetime.now().isoformat()\n",
        "\n",
        "    new_entry = pd.DataFrame([[user_id, job_id, rating, timestamp]],\n",
        "                             columns=[\"user_id\", \"job_id\", \"rating\", \"timestamp\"])\n",
        "\n",
        "    global interactions\n",
        "    interactions = pd.concat([interactions, new_entry], ignore_index=True)\n",
        "\n",
        "    interactions.to_csv(\"interactions.csv\", index=False)\n",
        "\n",
        "    print(f\"✅ Logged: user {user_id} {action} job {job_id} (rating={rating})\")\n"
      ],
      "metadata": {
        "id": "8rXu8ZhKMhz9"
      },
      "execution_count": 9,
      "outputs": []
    },
    {
      "cell_type": "code",
      "source": [
        "cf_model = CFModelSVD()\n",
        "cf_model.fit(interactions)\n",
        "print(\"✅ CF model retrained with new interactions.\")\n"
      ],
      "metadata": {
        "colab": {
          "base_uri": "https://localhost:8080/"
        },
        "id": "A_Qn2dhqMjpa",
        "outputId": "eeb25933-85a8-4980-ec94-a47a7f523bfb"
      },
      "execution_count": 10,
      "outputs": [
        {
          "output_type": "stream",
          "name": "stdout",
          "text": [
            "✅ CF model retrained with new interactions.\n"
          ]
        },
        {
          "output_type": "stream",
          "name": "stderr",
          "text": [
            "/usr/local/lib/python3.12/dist-packages/numpy/core/fromnumeric.py:3504: RuntimeWarning: Mean of empty slice.\n",
            "  return _methods._mean(a, axis=axis, dtype=dtype,\n",
            "/usr/local/lib/python3.12/dist-packages/numpy/core/_methods.py:129: RuntimeWarning: invalid value encountered in scalar divide\n",
            "  ret = ret.dtype.type(ret / rcount)\n"
          ]
        }
      ]
    },
    {
      "cell_type": "code",
      "source": [
        "# ✅ Step 1: Define relevant technical categories\n",
        "technical_jobs = [\n",
        "    \"Data Science\", \"Python Developer\", \"Java Developer\", \"AI\", \"Machine Learning Engineer\",\n",
        "    \"Web Developer\", \"Software Engineer\", \"C++ Developer\", \"Testing\", \"DevOps\", \"Blockchain\",\n",
        "    \"Database Administrator\", \"Full Stack Developer\"\n",
        "]\n",
        "\n",
        "# ✅ Step 2: Filter dataset\n",
        "print(\"Before filtering:\", df['Category'].nunique(), \"categories\")\n",
        "df = df[df['Category'].isin(technical_jobs)].reset_index(drop=True)\n",
        "print(\"After filtering:\", df['Category'].nunique(), \"categories\")\n",
        "print(\"Remaining categories:\\n\", df['Category'].value_counts())\n"
      ],
      "metadata": {
        "colab": {
          "base_uri": "https://localhost:8080/"
        },
        "id": "8eoQuF9AAA59",
        "outputId": "266ed114-67a5-422b-8652-67d0a8a52d18"
      },
      "execution_count": 11,
      "outputs": [
        {
          "output_type": "stream",
          "name": "stdout",
          "text": [
            "Before filtering: 25 categories\n",
            "After filtering: 5 categories\n",
            "Remaining categories:\n",
            " Category\n",
            "Java Developer      84\n",
            "Testing             70\n",
            "Python Developer    48\n",
            "Data Science        40\n",
            "Blockchain          40\n",
            "Name: count, dtype: int64\n"
          ]
        }
      ]
    },
    {
      "cell_type": "code",
      "source": [
        "# --- Train content-based models again (if not already in memory) ---\n",
        "from sklearn.feature_extraction.text import TfidfVectorizer\n",
        "from sklearn.linear_model import LogisticRegression\n",
        "\n",
        "# X and y from your dataset\n",
        "texts = df['Resume']          # resume text\n",
        "labels = df['Category']       # job categories\n",
        "\n",
        "# Vectorizer\n",
        "vectorizer = TfidfVectorizer(max_features=7000, stop_words=\"english\")\n",
        "X = vectorizer.fit_transform(texts)\n",
        "\n",
        "# Logistic Regression model\n",
        "logreg_model = LogisticRegression(max_iter=1000, random_state=42)\n",
        "logreg_model.fit(X, labels)\n",
        "\n",
        "print(\"✅ Content-based model trained.\")\n"
      ],
      "metadata": {
        "colab": {
          "base_uri": "https://localhost:8080/"
        },
        "id": "TM3c8STs4TK9",
        "outputId": "dceec3e2-7e7d-4e2c-b559-996292a4dc2e"
      },
      "execution_count": 12,
      "outputs": [
        {
          "output_type": "stream",
          "name": "stdout",
          "text": [
            "✅ Content-based model trained.\n"
          ]
        }
      ]
    },
    {
      "cell_type": "code",
      "source": [
        "# Hybrid Recommendation Engine\n",
        "class HybridRecommendationEngine:\n",
        "    def __init__(self, content_model, cf_model, vectorizer):\n",
        "        self.content_model = content_model\n",
        "        self.cf_model = cf_model\n",
        "        self.vectorizer = vectorizer\n",
        "\n",
        "    def recommend(self, resume_text, user_id=None, top_k=5):\n",
        "      # Content-based scores\n",
        "      X_new = self.vectorizer.transform([resume_text])\n",
        "      content_probs = self.content_model.predict_proba(X_new).mean(axis=0)\n",
        "      content_scores = dict(zip(self.content_model.classes_, content_probs))\n",
        "\n",
        "      # Collaborative scores\n",
        "      cf_scores = {}\n",
        "      if user_id is not None and hasattr(self.cf_model, \"predict_scores\"):\n",
        "          cf_scores = self.cf_model.predict_scores(user_id, list(content_scores.keys()))\n",
        "\n",
        "      # Dynamic weighting\n",
        "      final_scores = {}\n",
        "      for job, c_score in content_scores.items():\n",
        "          # If resume signal is strong, trust content more (80-90%)\n",
        "          if c_score > 0.15:\n",
        "              alpha = 0.85\n",
        "          else:\n",
        "              alpha = 0.6   # if weak content signal, lean more on CF\n",
        "\n",
        "          score = alpha * c_score + (1 - alpha) * cf_scores.get(job, 0)\n",
        "          final_scores[job] = (score, c_score, cf_scores.get(job, 0))\n",
        "\n",
        "      # Rank results\n",
        "      ranked = sorted(final_scores.items(), key=lambda x: x[1][0], reverse=True)[:top_k]\n",
        "\n",
        "      # Explain results\n",
        "      results = []\n",
        "      for job, (score, c_score, cf_score) in ranked:\n",
        "          why = []\n",
        "          if c_score > 0: why.append(\"Skills/keywords matched resume\")\n",
        "          if cf_score > 0: why.append(\"Similar users applied/searched this job\")\n",
        "          results.append({\"job\": job, \"score\": score, \"why\": why})\n",
        "      return results\n",
        "\n",
        "\n",
        "\n",
        "\n",
        "# ✅ Use already-trained models/vectorizer\n",
        "hybrid = HybridRecommendationEngine(logreg_model, cf_model, vectorizer)\n",
        "\n",
        "\n",
        "# --- Example test ---\n",
        "log_interaction(user_id=42, job_id=\"Data Science\", action=\"searched\")\n",
        "log_interaction(user_id=42, job_id=\"Machine Learning Engineer\", action=\"applied\")\n",
        "\n",
        "# Retrain CF on updated logs\n",
        "cf_model.fit(interactions)\n",
        "\n",
        "# Get hybrid recommendations\n",
        "resume_text = \"Student skilled in Python, ML, and data analysis projects.\"\n",
        "recs = hybrid.recommend(resume_text, user_id=42, top_k=5)\n",
        "\n",
        "print(\"\\n🎯 Updated Hybrid Recommendations for user 42:\\n\")\n",
        "for r in recs:\n",
        "    print(f\"- {r['job']} | {r['score']:.4f} | Why: {', '.join(r['why'])}\")"
      ],
      "metadata": {
        "colab": {
          "base_uri": "https://localhost:8080/"
        },
        "id": "ymZQDBl23Z_L",
        "outputId": "d9c2cd4f-123b-4a6f-9bce-f5d1476655a7"
      },
      "execution_count": 13,
      "outputs": [
        {
          "output_type": "stream",
          "name": "stdout",
          "text": [
            "✅ Logged: user 42 searched job Data Science (rating=0.3)\n",
            "✅ Logged: user 42 applied job Machine Learning Engineer (rating=1.0)\n",
            "\n",
            "🎯 Updated Hybrid Recommendations for user 42:\n",
            "\n",
            "- Data Science | 0.3986 | Why: Skills/keywords matched resume, Similar users applied/searched this job\n",
            "- Blockchain | 0.3193 | Why: Skills/keywords matched resume, Similar users applied/searched this job\n",
            "- Python Developer | 0.2873 | Why: Skills/keywords matched resume, Similar users applied/searched this job\n",
            "- Java Developer | 0.2346 | Why: Skills/keywords matched resume, Similar users applied/searched this job\n",
            "- Testing | 0.2299 | Why: Skills/keywords matched resume, Similar users applied/searched this job\n"
          ]
        },
        {
          "output_type": "stream",
          "name": "stderr",
          "text": [
            "/tmp/ipython-input-1730230656.py:24: FutureWarning: The behavior of DataFrame concatenation with empty or all-NA entries is deprecated. In a future version, this will no longer exclude empty or all-NA columns when determining the result dtypes. To retain the old behavior, exclude the relevant entries before the concat operation.\n",
            "  interactions = pd.concat([interactions, new_entry], ignore_index=True)\n"
          ]
        }
      ]
    },
    {
      "cell_type": "code",
      "source": [
        "# ✅ Use already-trained models/vectorizer\n",
        "hybrid = HybridRecommendationEngine(logreg_model, cf_model, vectorizer)\n"
      ],
      "metadata": {
        "id": "zCP8Qd-WMm51"
      },
      "execution_count": 14,
      "outputs": []
    },
    {
      "cell_type": "code",
      "source": [
        "test_user = 10\n",
        "job_labels = job_categories[:5]  # just pick first 5 categories for display\n",
        "\n",
        "cf_scores = cf_model.predict_scores(test_user, job_labels)\n",
        "\n",
        "print(f\"📌 Collaborative predictions for user {test_user}:\")\n",
        "for job, score in cf_scores.items():\n",
        "    print(f\"- {job}: {score:.4f}\")"
      ],
      "metadata": {
        "colab": {
          "base_uri": "https://localhost:8080/"
        },
        "id": "2OBKIA5vJf37",
        "outputId": "0d64b741-3ade-43f4-8fb3-0df8769b9241"
      },
      "execution_count": 15,
      "outputs": [
        {
          "output_type": "stream",
          "name": "stdout",
          "text": [
            "📌 Collaborative predictions for user 10:\n",
            "- Data Science: 0.6125\n",
            "- HR: 0.6500\n",
            "- Advocate: 0.6500\n",
            "- Arts: 0.6500\n",
            "- Web Designing: 0.6500\n"
          ]
        }
      ]
    },
    {
      "cell_type": "code",
      "source": [
        "resume_text = \"\"\"Experienced software engineer skilled in Python, Flask, and machine learning.\n",
        "Worked on full stack projects, chatbots, and data science pipelines.\"\"\"\n",
        "\n",
        "# ✅ Use the HybridRecommendationEngine (the correct class in your notebook)\n",
        "hybrid = HybridRecommendationEngine(logreg_model, cf_model, vectorizer)\n",
        "\n",
        "recs = hybrid.recommend(resume_text, user_id=10, top_k=5)\n",
        "\n",
        "print(\"\\n🎯 Hybrid Recommendations (with CF):\\n\")\n",
        "for r in recs:\n",
        "    print(f\"- {r['job']} | {r['score']:.4f} | Why: {', '.join(r['why'])}\")\n"
      ],
      "metadata": {
        "colab": {
          "base_uri": "https://localhost:8080/"
        },
        "id": "BotsJfcfJn61",
        "outputId": "fa3533cc-4753-4003-ca42-afe6e162ff2e"
      },
      "execution_count": 16,
      "outputs": [
        {
          "output_type": "stream",
          "name": "stdout",
          "text": [
            "\n",
            "🎯 Hybrid Recommendations (with CF):\n",
            "\n",
            "- Data Science | 0.5186 | Why: Skills/keywords matched resume, Similar users applied/searched this job\n",
            "- Testing | 0.3424 | Why: Skills/keywords matched resume, Similar users applied/searched this job\n",
            "- Java Developer | 0.3243 | Why: Skills/keywords matched resume, Similar users applied/searched this job\n",
            "- Blockchain | 0.3192 | Why: Skills/keywords matched resume, Similar users applied/searched this job\n",
            "- Python Developer | 0.2290 | Why: Skills/keywords matched resume, Similar users applied/searched this job\n"
          ]
        }
      ]
    },
    {
      "cell_type": "code",
      "source": [
        "! pip install docx2txt pdfplumber"
      ],
      "metadata": {
        "colab": {
          "base_uri": "https://localhost:8080/"
        },
        "id": "hf89TRXyJ-Zb",
        "outputId": "d86f4886-ad5f-4fbf-e8cb-6b518aa02d3c"
      },
      "execution_count": 17,
      "outputs": [
        {
          "output_type": "stream",
          "name": "stdout",
          "text": [
            "Collecting docx2txt\n",
            "  Downloading docx2txt-0.9-py3-none-any.whl.metadata (529 bytes)\n",
            "Collecting pdfplumber\n",
            "  Downloading pdfplumber-0.11.7-py3-none-any.whl.metadata (42 kB)\n",
            "\u001b[2K     \u001b[90m━━━━━━━━━━━━━━━━━━━━━━━━━━━━━━━━━━━━━━━━\u001b[0m \u001b[32m42.8/42.8 kB\u001b[0m \u001b[31m1.6 MB/s\u001b[0m eta \u001b[36m0:00:00\u001b[0m\n",
            "\u001b[?25hCollecting pdfminer.six==20250506 (from pdfplumber)\n",
            "  Downloading pdfminer_six-20250506-py3-none-any.whl.metadata (4.2 kB)\n",
            "Requirement already satisfied: Pillow>=9.1 in /usr/local/lib/python3.12/dist-packages (from pdfplumber) (11.3.0)\n",
            "Collecting pypdfium2>=4.18.0 (from pdfplumber)\n",
            "  Downloading pypdfium2-4.30.0-py3-none-manylinux_2_17_x86_64.manylinux2014_x86_64.whl.metadata (48 kB)\n",
            "\u001b[2K     \u001b[90m━━━━━━━━━━━━━━━━━━━━━━━━━━━━━━━━━━━━━━━━\u001b[0m \u001b[32m48.5/48.5 kB\u001b[0m \u001b[31m2.1 MB/s\u001b[0m eta \u001b[36m0:00:00\u001b[0m\n",
            "\u001b[?25hRequirement already satisfied: charset-normalizer>=2.0.0 in /usr/local/lib/python3.12/dist-packages (from pdfminer.six==20250506->pdfplumber) (3.4.3)\n",
            "Requirement already satisfied: cryptography>=36.0.0 in /usr/local/lib/python3.12/dist-packages (from pdfminer.six==20250506->pdfplumber) (43.0.3)\n",
            "Requirement already satisfied: cffi>=1.12 in /usr/local/lib/python3.12/dist-packages (from cryptography>=36.0.0->pdfminer.six==20250506->pdfplumber) (1.17.1)\n",
            "Requirement already satisfied: pycparser in /usr/local/lib/python3.12/dist-packages (from cffi>=1.12->cryptography>=36.0.0->pdfminer.six==20250506->pdfplumber) (2.22)\n",
            "Downloading docx2txt-0.9-py3-none-any.whl (4.0 kB)\n",
            "Downloading pdfplumber-0.11.7-py3-none-any.whl (60 kB)\n",
            "\u001b[2K   \u001b[90m━━━━━━━━━━━━━━━━━━━━━━━━━━━━━━━━━━━━━━━━\u001b[0m \u001b[32m60.0/60.0 kB\u001b[0m \u001b[31m4.4 MB/s\u001b[0m eta \u001b[36m0:00:00\u001b[0m\n",
            "\u001b[?25hDownloading pdfminer_six-20250506-py3-none-any.whl (5.6 MB)\n",
            "\u001b[2K   \u001b[90m━━━━━━━━━━━━━━━━━━━━━━━━━━━━━━━━━━━━━━━━\u001b[0m \u001b[32m5.6/5.6 MB\u001b[0m \u001b[31m56.1 MB/s\u001b[0m eta \u001b[36m0:00:00\u001b[0m\n",
            "\u001b[?25hDownloading pypdfium2-4.30.0-py3-none-manylinux_2_17_x86_64.manylinux2014_x86_64.whl (2.8 MB)\n",
            "\u001b[2K   \u001b[90m━━━━━━━━━━━━━━━━━━━━━━━━━━━━━━━━━━━━━━━━\u001b[0m \u001b[32m2.8/2.8 MB\u001b[0m \u001b[31m77.1 MB/s\u001b[0m eta \u001b[36m0:00:00\u001b[0m\n",
            "\u001b[?25hInstalling collected packages: docx2txt, pypdfium2, pdfminer.six, pdfplumber\n",
            "Successfully installed docx2txt-0.9 pdfminer.six-20250506 pdfplumber-0.11.7 pypdfium2-4.30.0\n"
          ]
        }
      ]
    },
    {
      "cell_type": "code",
      "source": [
        "from google.colab import files\n",
        "import docx2txt\n",
        "import pdfplumber\n",
        "\n",
        "user_id = None\n",
        "# Upload a resume file\n",
        "uploaded = files.upload()\n",
        "filename = list(uploaded.keys())[0]\n",
        "\n",
        "# Extract text from DOCX or PDF\n",
        "resume_text = \"\"\n",
        "if filename.endswith(\".docx\"):\n",
        "    resume_text = docx2txt.process(filename)\n",
        "elif filename.endswith(\".pdf\"):\n",
        "    with pdfplumber.open(filename) as pdf:\n",
        "        for page in pdf.pages:\n",
        "            resume_text += page.extract_text() + \"\\n\"\n",
        "else:\n",
        "    with open(filename, \"r\", encoding=\"utf-8\") as f:\n",
        "        resume_text = f.read()\n",
        "\n",
        "print(\"✅ Resume text extracted successfully.\")\n",
        "\n",
        "# 🔹 Cold-start handling: if no user_id available, set to None  # change to an int if you have logs (e.g., 10), else keep None\n",
        "\n",
        "# Run hybrid recommender\n",
        "recs = hybrid.recommend(resume_text, user_id=user_id, top_k=5)\n",
        "\n",
        "# --- Debugging Predictions ---\n",
        "resume_text = \"\"\"Experienced software engineer skilled in Python, Flask, and machine learning.\n",
        "Worked on full stack projects, chatbots, and data science pipelines.\"\"\"\n",
        "\n",
        "# Content-only predictions\n",
        "X_new = vectorizer.transform([resume_text])\n",
        "content_probs = logreg_model.predict_proba(X_new)[0]\n",
        "top_content = sorted(\n",
        "    zip(logreg_model.classes_, content_probs),\n",
        "    key=lambda x: x[1],\n",
        "    reverse=True\n",
        ")[:5]\n",
        "\n",
        "print(\"\\n\")\n",
        "\n",
        "print(\"📌 Content-based predictions:\")\n",
        "for job, score in top_content:\n",
        "    print(f\"- {job}: {score:.4f}\")\n",
        "\n",
        "# Collaborative-only predictions\n",
        "# Fixed: Pass job_labels as 'items' argument\n",
        "cf_scores = cf_model.predict_scores(user_id=10, items=logreg_model.classes_)\n",
        "print(\"\\n📌 Collaborative predictions:\")\n",
        "for job, score in sorted(cf_scores.items(), key=lambda x: x[1], reverse=True)[:5]:\n",
        "    print(f\"- {job}: {score:.4f}\")\n",
        "\n",
        "# Hybrid predictions\n",
        "recs = hybrid.recommend(resume_text, user_id=10, top_k=5)\n",
        "print(\"\\n📌 Hybrid predictions:\")\n",
        "for r in recs:\n",
        "    print(f\"- {r['job']} | {r['score']:.4f} | Why: {', '.join(r['why'])}\")\n"
      ],
      "metadata": {
        "colab": {
          "base_uri": "https://localhost:8080/",
          "height": 472
        },
        "id": "tM3g4DVCJwEs",
        "outputId": "cfc93731-d65f-4481-cacb-2cd904c3f570"
      },
      "execution_count": 21,
      "outputs": [
        {
          "output_type": "display_data",
          "data": {
            "text/plain": [
              "<IPython.core.display.HTML object>"
            ],
            "text/html": [
              "\n",
              "     <input type=\"file\" id=\"files-e33d5b24-44c8-4193-a998-1d3f75ad32b1\" name=\"files[]\" multiple disabled\n",
              "        style=\"border:none\" />\n",
              "     <output id=\"result-e33d5b24-44c8-4193-a998-1d3f75ad32b1\">\n",
              "      Upload widget is only available when the cell has been executed in the\n",
              "      current browser session. Please rerun this cell to enable.\n",
              "      </output>\n",
              "      <script>// Copyright 2017 Google LLC\n",
              "//\n",
              "// Licensed under the Apache License, Version 2.0 (the \"License\");\n",
              "// you may not use this file except in compliance with the License.\n",
              "// You may obtain a copy of the License at\n",
              "//\n",
              "//      http://www.apache.org/licenses/LICENSE-2.0\n",
              "//\n",
              "// Unless required by applicable law or agreed to in writing, software\n",
              "// distributed under the License is distributed on an \"AS IS\" BASIS,\n",
              "// WITHOUT WARRANTIES OR CONDITIONS OF ANY KIND, either express or implied.\n",
              "// See the License for the specific language governing permissions and\n",
              "// limitations under the License.\n",
              "\n",
              "/**\n",
              " * @fileoverview Helpers for google.colab Python module.\n",
              " */\n",
              "(function(scope) {\n",
              "function span(text, styleAttributes = {}) {\n",
              "  const element = document.createElement('span');\n",
              "  element.textContent = text;\n",
              "  for (const key of Object.keys(styleAttributes)) {\n",
              "    element.style[key] = styleAttributes[key];\n",
              "  }\n",
              "  return element;\n",
              "}\n",
              "\n",
              "// Max number of bytes which will be uploaded at a time.\n",
              "const MAX_PAYLOAD_SIZE = 100 * 1024;\n",
              "\n",
              "function _uploadFiles(inputId, outputId) {\n",
              "  const steps = uploadFilesStep(inputId, outputId);\n",
              "  const outputElement = document.getElementById(outputId);\n",
              "  // Cache steps on the outputElement to make it available for the next call\n",
              "  // to uploadFilesContinue from Python.\n",
              "  outputElement.steps = steps;\n",
              "\n",
              "  return _uploadFilesContinue(outputId);\n",
              "}\n",
              "\n",
              "// This is roughly an async generator (not supported in the browser yet),\n",
              "// where there are multiple asynchronous steps and the Python side is going\n",
              "// to poll for completion of each step.\n",
              "// This uses a Promise to block the python side on completion of each step,\n",
              "// then passes the result of the previous step as the input to the next step.\n",
              "function _uploadFilesContinue(outputId) {\n",
              "  const outputElement = document.getElementById(outputId);\n",
              "  const steps = outputElement.steps;\n",
              "\n",
              "  const next = steps.next(outputElement.lastPromiseValue);\n",
              "  return Promise.resolve(next.value.promise).then((value) => {\n",
              "    // Cache the last promise value to make it available to the next\n",
              "    // step of the generator.\n",
              "    outputElement.lastPromiseValue = value;\n",
              "    return next.value.response;\n",
              "  });\n",
              "}\n",
              "\n",
              "/**\n",
              " * Generator function which is called between each async step of the upload\n",
              " * process.\n",
              " * @param {string} inputId Element ID of the input file picker element.\n",
              " * @param {string} outputId Element ID of the output display.\n",
              " * @return {!Iterable<!Object>} Iterable of next steps.\n",
              " */\n",
              "function* uploadFilesStep(inputId, outputId) {\n",
              "  const inputElement = document.getElementById(inputId);\n",
              "  inputElement.disabled = false;\n",
              "\n",
              "  const outputElement = document.getElementById(outputId);\n",
              "  outputElement.innerHTML = '';\n",
              "\n",
              "  const pickedPromise = new Promise((resolve) => {\n",
              "    inputElement.addEventListener('change', (e) => {\n",
              "      resolve(e.target.files);\n",
              "    });\n",
              "  });\n",
              "\n",
              "  const cancel = document.createElement('button');\n",
              "  inputElement.parentElement.appendChild(cancel);\n",
              "  cancel.textContent = 'Cancel upload';\n",
              "  const cancelPromise = new Promise((resolve) => {\n",
              "    cancel.onclick = () => {\n",
              "      resolve(null);\n",
              "    };\n",
              "  });\n",
              "\n",
              "  // Wait for the user to pick the files.\n",
              "  const files = yield {\n",
              "    promise: Promise.race([pickedPromise, cancelPromise]),\n",
              "    response: {\n",
              "      action: 'starting',\n",
              "    }\n",
              "  };\n",
              "\n",
              "  cancel.remove();\n",
              "\n",
              "  // Disable the input element since further picks are not allowed.\n",
              "  inputElement.disabled = true;\n",
              "\n",
              "  if (!files) {\n",
              "    return {\n",
              "      response: {\n",
              "        action: 'complete',\n",
              "      }\n",
              "    };\n",
              "  }\n",
              "\n",
              "  for (const file of files) {\n",
              "    const li = document.createElement('li');\n",
              "    li.append(span(file.name, {fontWeight: 'bold'}));\n",
              "    li.append(span(\n",
              "        `(${file.type || 'n/a'}) - ${file.size} bytes, ` +\n",
              "        `last modified: ${\n",
              "            file.lastModifiedDate ? file.lastModifiedDate.toLocaleDateString() :\n",
              "                                    'n/a'} - `));\n",
              "    const percent = span('0% done');\n",
              "    li.appendChild(percent);\n",
              "\n",
              "    outputElement.appendChild(li);\n",
              "\n",
              "    const fileDataPromise = new Promise((resolve) => {\n",
              "      const reader = new FileReader();\n",
              "      reader.onload = (e) => {\n",
              "        resolve(e.target.result);\n",
              "      };\n",
              "      reader.readAsArrayBuffer(file);\n",
              "    });\n",
              "    // Wait for the data to be ready.\n",
              "    let fileData = yield {\n",
              "      promise: fileDataPromise,\n",
              "      response: {\n",
              "        action: 'continue',\n",
              "      }\n",
              "    };\n",
              "\n",
              "    // Use a chunked sending to avoid message size limits. See b/62115660.\n",
              "    let position = 0;\n",
              "    do {\n",
              "      const length = Math.min(fileData.byteLength - position, MAX_PAYLOAD_SIZE);\n",
              "      const chunk = new Uint8Array(fileData, position, length);\n",
              "      position += length;\n",
              "\n",
              "      const base64 = btoa(String.fromCharCode.apply(null, chunk));\n",
              "      yield {\n",
              "        response: {\n",
              "          action: 'append',\n",
              "          file: file.name,\n",
              "          data: base64,\n",
              "        },\n",
              "      };\n",
              "\n",
              "      let percentDone = fileData.byteLength === 0 ?\n",
              "          100 :\n",
              "          Math.round((position / fileData.byteLength) * 100);\n",
              "      percent.textContent = `${percentDone}% done`;\n",
              "\n",
              "    } while (position < fileData.byteLength);\n",
              "  }\n",
              "\n",
              "  // All done.\n",
              "  yield {\n",
              "    response: {\n",
              "      action: 'complete',\n",
              "    }\n",
              "  };\n",
              "}\n",
              "\n",
              "scope.google = scope.google || {};\n",
              "scope.google.colab = scope.google.colab || {};\n",
              "scope.google.colab._files = {\n",
              "  _uploadFiles,\n",
              "  _uploadFilesContinue,\n",
              "};\n",
              "})(self);\n",
              "</script> "
            ]
          },
          "metadata": {}
        },
        {
          "output_type": "stream",
          "name": "stdout",
          "text": [
            "Saving Dr-Hemanth-S.pdf to Dr-Hemanth-S (1).pdf\n",
            "✅ Resume text extracted successfully.\n",
            "\n",
            "\n",
            "📌 Content-based predictions:\n",
            "- Data Science: 0.5020\n",
            "- Python Developer: 0.1548\n",
            "- Testing: 0.1374\n",
            "- Java Developer: 0.1071\n",
            "- Blockchain: 0.0987\n",
            "\n",
            "📌 Collaborative predictions:\n",
            "- Blockchain: 0.6500\n",
            "- Java Developer: 0.6500\n",
            "- Python Developer: 0.6500\n",
            "- Testing: 0.6500\n",
            "- Data Science: 0.6125\n",
            "\n",
            "📌 Hybrid predictions:\n",
            "- Data Science | 0.5186 | Why: Skills/keywords matched resume, Similar users applied/searched this job\n",
            "- Testing | 0.3424 | Why: Skills/keywords matched resume, Similar users applied/searched this job\n",
            "- Java Developer | 0.3243 | Why: Skills/keywords matched resume, Similar users applied/searched this job\n",
            "- Blockchain | 0.3192 | Why: Skills/keywords matched resume, Similar users applied/searched this job\n",
            "- Python Developer | 0.2290 | Why: Skills/keywords matched resume, Similar users applied/searched this job\n"
          ]
        }
      ]
    }
  ]
}